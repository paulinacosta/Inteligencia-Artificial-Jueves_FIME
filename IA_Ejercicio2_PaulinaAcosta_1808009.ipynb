{
  "nbformat": 4,
  "nbformat_minor": 0,
  "metadata": {
    "colab": {
      "name": "IA_Ejercicio2_PaulinaAcosta_1808009.ipynb",
      "provenance": [],
      "collapsed_sections": [],
      "authorship_tag": "ABX9TyPU57f8f+qk0ZYuARaqZi3V",
      "include_colab_link": true
    },
    "kernelspec": {
      "name": "python3",
      "display_name": "Python 3"
    },
    "language_info": {
      "name": "python"
    }
  },
  "cells": [
    {
      "cell_type": "markdown",
      "metadata": {
        "id": "view-in-github",
        "colab_type": "text"
      },
      "source": [
        "<a href=\"https://colab.research.google.com/github/paulinacosta/Inteligencia-Artificial-Jueves_FIME/blob/main/IA_Ejercicio2_PaulinaAcosta_1808009.ipynb\" target=\"_parent\"><img src=\"https://colab.research.google.com/assets/colab-badge.svg\" alt=\"Open In Colab\"/></a>"
      ]
    },
    {
      "cell_type": "markdown",
      "metadata": {
        "id": "x_tycqU9c5Md"
      },
      "source": [
        "**ACTIVIDAD 1:** INTRODUCCIÓN A PYTHON\n",
        "\n",
        "**EJERCICIO 2:** \"OPERACIONES ARITMETICAS\"\n",
        "\n",
        "**Nombre:** Paulina Merari Acosta Sánchez\n",
        "\n",
        "**Matrícula:** 1808009\n",
        "\n",
        "**Hora de clase:** N4 - N6"
      ]
    },
    {
      "cell_type": "code",
      "metadata": {
        "id": "l0qxoh4lWoCB"
      },
      "source": [
        "###################################\n",
        "#  Ejercicio 2                    #\n",
        "#  Introducción a Python          #\n",
        "#                                 #\n",
        "#  Elaborado por:                 #\n",
        "#  Paulina Merari Acosta Sánchez  #\n",
        "#                                 #\n",
        "#  Fecha: 01/09/2021              #\n",
        "###################################\n",
        "\n",
        "# ENTRADA DE DATOS\n",
        "num_E1 = int(input(\"Inserte su primer número entero: \"))\n",
        "num_E2 = int(input(\"Inserte su segundo número entero: \"))\n",
        "num_F1 = float(input(\"Inserte su primer número flotante: \"))\n",
        "num_F2 = float(input(\"Inserte su segundo número flotante: \"))\n",
        "\n",
        "# OPERACIONES ARITMETICAS\n",
        "#  Números enteros\n",
        "res_1 = num_E1 + num_E2\n",
        "res_2 = num_E1 - num_E2\n",
        "res_3 = num_E1 * num_E2\n",
        "res_4 = num_E1 / num_E2\n",
        "# Números flotantes\n",
        "res_5 = num_F1 + num_F2\n",
        "res_6 = num_F1 - num_F2\n",
        "res_7 = num_F1 * num_F2\n",
        "res_8 = num_F1 / num_F2\n",
        "\n",
        "# SALIDA DEL PROGRAMA\n",
        "print(\"\\nOperaciones aritmeticas de los dos números enteros:\")\n",
        "print(f\"{num_E1} + {num_E2} = {res_1}\")\n",
        "print(f\"{num_E1} - {num_E2} = {res_2}\")\n",
        "print(f\"{num_E1} * {num_E2} = {res_3}\")\n",
        "print(f\"{num_E1} / {num_E2} = {res_4}\")\n",
        "\n",
        "print(\"\\nOperaciones aritmeticas de los dos números flotantes:\")\n",
        "print(f\"{num_F1} + {num_F2} = {res_5}\")\n",
        "print(f\"{num_F1} - {num_F2} = {res_6}\")\n",
        "print(f\"{num_F1} * {num_F2} = {res_7}\")\n",
        "print(f\"{num_F1} / {num_F2} = {res_8}\")"
      ],
      "execution_count": null,
      "outputs": []
    }
  ]
}