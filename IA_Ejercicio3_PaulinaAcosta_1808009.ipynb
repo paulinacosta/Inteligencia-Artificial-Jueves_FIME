{
  "nbformat": 4,
  "nbformat_minor": 0,
  "metadata": {
    "colab": {
      "name": "IA_Ejercicio3_PaulinaAcosta_1808009.ipynb",
      "provenance": [],
      "collapsed_sections": [],
      "authorship_tag": "ABX9TyO2l+XiY56JQk5B75TuLvfo",
      "include_colab_link": true
    },
    "kernelspec": {
      "name": "python3",
      "display_name": "Python 3"
    },
    "language_info": {
      "name": "python"
    }
  },
  "cells": [
    {
      "cell_type": "markdown",
      "metadata": {
        "id": "view-in-github",
        "colab_type": "text"
      },
      "source": [
        "<a href=\"https://colab.research.google.com/github/paulinacosta/Inteligencia-Artificial-Jueves_FIME/blob/main/IA_Ejercicio3_PaulinaAcosta_1808009.ipynb\" target=\"_parent\"><img src=\"https://colab.research.google.com/assets/colab-badge.svg\" alt=\"Open In Colab\"/></a>"
      ]
    },
    {
      "cell_type": "markdown",
      "metadata": {
        "id": "x_tycqU9c5Md"
      },
      "source": [
        "**ACTIVIDAD 1:** INTRODUCCIÓN A PYTHON\n",
        "\n",
        "**EJERCICIO 3:** \"OPERADORES LÓGICOS\"\n",
        "\n",
        "**Nombre:** Paulina Merari Acosta Sánchez\n",
        "\n",
        "**Matrícula:** 1808009\n",
        "\n",
        "**Hora de clase:** N4 - N6"
      ]
    },
    {
      "cell_type": "code",
      "metadata": {
        "id": "l0qxoh4lWoCB",
        "colab": {
          "base_uri": "https://localhost:8080/"
        },
        "outputId": "cf590e55-2e54-4d35-9af2-627ce1296294"
      },
      "source": [
        "###################################\n",
        "#  ACTIVIDAD 1                    #\n",
        "#  Introducción a Python          #\n",
        "#                                 #\n",
        "#  EJERCICIO 3                    #\n",
        "#  Operadores lógicos             #\n",
        "#                                 #\n",
        "#  Elaborado por:                 #\n",
        "#  Paulina Merari Acosta Sánchez  #\n",
        "#                                 #\n",
        "#  Fecha: 01/09/2021              #\n",
        "###################################\n",
        "\n",
        "# DECLARACION DE VARIABLES\n",
        "A = 4\n",
        "B = 10\n",
        "C = 3\n",
        "D = 8\n",
        "\n",
        "# OPERADOR LÓGICO AND\n",
        "res_AND1 = ((A>B) and (C>D))\n",
        "res_AND2 = ((A>C) and (B>D))\n",
        "\n",
        "# OPERADOR LÓGICO OR\n",
        "res_OR1 = ((A>D) or (B>C))\n",
        "res_OR2 = ((C>A) or (B>D))\n",
        "\n",
        "# OPERADOR LÓGICO NOT\n",
        "res_NOT1 = not (A>D)\n",
        "res_NOT2 = not (B>C)\n",
        "\n",
        "# SALIDA DEL PROGRAMA\n",
        "print(f\"Operador AND:\\n({A}>{B}) and ({C}>{D}) = {res_AND1}\\n({A}>{C}) and ({B}>{D}) = {res_AND2}\\n\")\n",
        "print(f\"Operador OR:\\n({A}>{D}) or ({B}>{C}) = {res_OR1}\\n({C}>{A}) or ({B}>{D}) = {res_OR2}\\n\")\n",
        "print(f\"Operador NOT:\\nnot ({A}>{D}) = {res_NOT1}\\nnot ({B}>{C}) = {res_NOT2}\\n\")\n",
        "\n"
      ],
      "execution_count": 10,
      "outputs": [
        {
          "output_type": "stream",
          "name": "stdout",
          "text": [
            "Operador AND:\n",
            "(4>10) and (3>8) = False\n",
            "(4>3) and (10>8) = True\n",
            "\n",
            "Operador OR:\n",
            "(4>8) or (10>3) = True\n",
            "(3>4) or (10>8) = True\n",
            "\n",
            "Operador NOT:\n",
            "not (4>8) = True\n",
            "not (10>3) = False\n",
            "\n"
          ]
        }
      ]
    }
  ]
}