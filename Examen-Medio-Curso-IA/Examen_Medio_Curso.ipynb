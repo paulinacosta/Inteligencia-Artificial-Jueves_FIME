{
  "nbformat": 4,
  "nbformat_minor": 0,
  "metadata": {
    "colab": {
      "name": "Examen-Medio-Curso.ipynb",
      "provenance": [],
      "collapsed_sections": []
    },
    "kernelspec": {
      "name": "python3",
      "display_name": "Python 3"
    },
    "language_info": {
      "name": "python"
    }
  },
  "cells": [
    {
      "cell_type": "markdown",
      "metadata": {
        "id": "N9YoK5zlEf0E"
      },
      "source": [
        "**Examen de Medio Curso:**\n",
        "Inteligencia Artificial\n",
        "\n",
        "**Fecha:** 22 de septiembre de 2021\n",
        "\n",
        "\n",
        "**Hora de clase:** N4 - N6  **Día:** Jueves\n",
        "\n",
        "**Nombre:** Paulina Merari Acosta Sánchez\n",
        "**Matrícula:** 1808009"
      ]
    },
    {
      "cell_type": "markdown",
      "metadata": {
        "id": "FSMdLg2qEO9g"
      },
      "source": [
        "**Ejercicio 1**\n",
        "\n"
      ]
    },
    {
      "cell_type": "code",
      "metadata": {
        "colab": {
          "base_uri": "https://localhost:8080/"
        },
        "id": "BfNdaxZZ_hIe",
        "outputId": "dbbffe9e-7b32-4e83-8e86-7754c79de603"
      },
      "source": [
        "###################################\n",
        "#  EJERCICIO 1                    #\n",
        "#  Examen de Medio Curso          #\n",
        "#                                 #\n",
        "#  Elaborado por:                 #\n",
        "#  Paulina Merari Acosta Sánchez  #\n",
        "#                                 #\n",
        "#  Fecha: 22/09/2021              #\n",
        "###################################\n",
        "\n",
        "ex_lista = [10, 15, 17, 21, 22, 34, 37, 40, 45, 52, 66, 68, 81, 84, 91, 94, 102, 105, 109]\n",
        "\n",
        "for i in ex_lista:\n",
        "  if (i %2 == 1):\n",
        "    print(i)"
      ],
      "execution_count": 24,
      "outputs": [
        {
          "output_type": "stream",
          "name": "stdout",
          "text": [
            "15\n",
            "17\n",
            "21\n",
            "37\n",
            "45\n",
            "81\n",
            "91\n",
            "105\n",
            "109\n"
          ]
        }
      ]
    },
    {
      "cell_type": "markdown",
      "metadata": {
        "id": "mlYvQON2FMVj"
      },
      "source": [
        "**Ejercicio 2**\n",
        "\n"
      ]
    },
    {
      "cell_type": "code",
      "metadata": {
        "colab": {
          "base_uri": "https://localhost:8080/"
        },
        "id": "bnP2unGkF721",
        "outputId": "aebac8af-2d22-4342-9f52-b140e2528512"
      },
      "source": [
        "###################################\n",
        "#  EJERCICIO 2                    #\n",
        "#  Examen de Medio Curso          #\n",
        "#                                 #\n",
        "#  Elaborado por:                 #\n",
        "#  Paulina Merari Acosta Sánchez  #\n",
        "#                                 #\n",
        "#  Fecha: 22/09/2021              #\n",
        "###################################\n",
        "\n",
        "peliculas_favoritas=[]\n",
        "\n",
        "# ENTRADA\n",
        "i=1\n",
        "while i<=5:\n",
        "  pelicula = input(f\"Ingrese su {i}a. película favorita: \")\n",
        "  peliculas_favoritas.append(pelicula)\n",
        "  i+=1\n",
        "\n",
        "# SALIDA\n",
        "j=1\n",
        "for j in range (0,5):\n",
        "  print(f\"La película {peliculas_favoritas[j]} está en la posición {j+1} de mi top 5.\")"
      ],
      "execution_count": 54,
      "outputs": [
        {
          "output_type": "stream",
          "name": "stdout",
          "text": [
            "Ingrese su 1a. película favorita: Big fish\n",
            "Ingrese su 2a. película favorita: Hamilton\n",
            "Ingrese su 3a. película favorita: Birdman\n",
            "Ingrese su 4a. película favorita: Shrek 2\n",
            "Ingrese su 5a. película favorita: Buscando a nemo\n",
            "La película Big fish está en la posición 1 de mi top 5.\n",
            "La película Hamilton está en la posición 2 de mi top 5.\n",
            "La película Birdman está en la posición 3 de mi top 5.\n",
            "La película Shrek 2 está en la posición 4 de mi top 5.\n",
            "La película Buscando a nemo está en la posición 5 de mi top 5.\n"
          ]
        }
      ]
    }
  ]
}