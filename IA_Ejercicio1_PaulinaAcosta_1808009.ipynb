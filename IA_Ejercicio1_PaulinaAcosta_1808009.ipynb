{
  "nbformat": 4,
  "nbformat_minor": 0,
  "metadata": {
    "colab": {
      "name": "IA_Ejercicio1_PaulinaAcosta_1808009.ipynb",
      "provenance": [],
      "collapsed_sections": [],
      "authorship_tag": "ABX9TyN316l2VbNy1ttP2sObSKUl",
      "include_colab_link": true
    },
    "kernelspec": {
      "name": "python3",
      "display_name": "Python 3"
    },
    "language_info": {
      "name": "python"
    }
  },
  "cells": [
    {
      "cell_type": "markdown",
      "metadata": {
        "id": "view-in-github",
        "colab_type": "text"
      },
      "source": [
        "<a href=\"https://colab.research.google.com/github/paulinacosta/Inteligencia-Artificial-Jueves_FIME/blob/main/IA_Ejercicio1_PaulinaAcosta_1808009.ipynb\" target=\"_parent\"><img src=\"https://colab.research.google.com/assets/colab-badge.svg\" alt=\"Open In Colab\"/></a>"
      ]
    },
    {
      "cell_type": "markdown",
      "metadata": {
        "id": "UPNeuF8EaTnr"
      },
      "source": [
        "**ACTIVIDAD 1:** INTRODUCCIÓN A PYTHON\n",
        "\n",
        "**EJERCICIO 1:** \"TU FRASE FAVORITA\"\n",
        "\n",
        "**Nombre:** Paulina Merari Acosta Sánchez\n",
        "\n",
        "**Matrícula:** 1808009\n",
        "\n",
        "**Hora de clase:** N4 - N6"
      ]
    },
    {
      "cell_type": "code",
      "metadata": {
        "id": "l0qxoh4lWoCB"
      },
      "source": [
        "###################################\n",
        "#  Ejercicio 1                    #\n",
        "#  Introducción a Python          #\n",
        "#                                 #\n",
        "#  Elaborado por:                 #\n",
        "#  Paulina Merari Acosta Sánchez  #\n",
        "#                                 #\n",
        "#  Fecha: 01/09/2021              #\n",
        "###################################\n",
        "\n",
        "# ENTRADA DE DATOS: Nombre, edad, frase favorita y autor de la frase.\n",
        "nombre = input(\"¿Cuál es tu nombre? \")\n",
        "edad = input(f\"¿Cuántos años tienes? \")\n",
        "frase_favorita = input(\"¿Cuál es tu frase favorita? \")\n",
        "autor = input(\"¿Quién es el autor de esa frase? \")\n",
        "\n",
        "#SALIDA DEL PROGRAMA\n",
        "print(f\"\\n{nombre} tiene {edad} años y su frase favorita es:\\n\")\n",
        "print(f\"   '{frase_favorita}'\\n                 - {autor}\")"
      ],
      "execution_count": null,
      "outputs": []
    }
  ]
}