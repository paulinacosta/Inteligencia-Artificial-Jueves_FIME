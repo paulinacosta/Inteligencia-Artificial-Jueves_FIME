{
  "nbformat": 4,
  "nbformat_minor": 0,
  "metadata": {
    "colab": {
      "name": "IA_Actividad3_PaulinaAcosta_1808009.ipynb",
      "provenance": []
    },
    "kernelspec": {
      "name": "python3",
      "display_name": "Python 3"
    },
    "language_info": {
      "name": "python"
    }
  },
  "cells": [
    {
      "cell_type": "markdown",
      "metadata": {
        "id": "UPNeuF8EaTnr"
      },
      "source": [
        "**ACTIVIDAD 3:** INTRODUCCIÓN A PYTHON 2da. PARTE\n",
        "\n",
        "\n",
        "**Nombre:** Paulina Merari Acosta Sánchez\n",
        "\n",
        "**Matrícula:** 1808009\n",
        "\n",
        "**Hora de clase:** N4 - N6\n",
        "\n",
        "**Fecha:** 16 de septiembre de 2021"
      ]
    },
    {
      "cell_type": "code",
      "metadata": {
        "id": "LfzVRuZgpKcg"
      },
      "source": [
        "###################################\n",
        "#  ACTIVIDAD 3                    #\n",
        "#  Introducción a Python 2        #\n",
        "#                                 #\n",
        "#  EJERCICIO 1.1                  #\n",
        "#  Mis comidas favoritas          #\n",
        "#                                 #\n",
        "#  Elaborado por:                 #\n",
        "#  Paulina Merari Acosta Sánchez  #\n",
        "#                                 #\n",
        "#  Fecha: 16/09/2021              #\n",
        "###################################\n",
        "\n",
        "# ENTRADA\n",
        "lista_comida=[]  # Se declara la lista.\n",
        "i=1\n",
        "\n",
        "while i<=7:  # El ciclo se repite hasta guardar en la lista las 7 comidas favoritas.\n",
        "  comida = input(f\"Ingrese su {i}a. comida favorita: \")  # Se solicita ingresar una comida favorita por ciclo.\n",
        "  lista_comida.append(comida)  # La comida ingresada se agrega a la lista.\n",
        "  i+=1  # i aumenta de uno en uno.\n",
        "\n",
        "# SALIDA\n",
        "print(\"Mis comidas favoritas son:\")\n",
        "for str in lista_comida: # Se imprimen las 7 comidas por separado.\n",
        "  print(str)\n"
      ],
      "execution_count": null,
      "outputs": []
    },
    {
      "cell_type": "code",
      "metadata": {
        "id": "TkdU9YZfaco2"
      },
      "source": [
        "###################################\n",
        "#  ACTIVIDAD 3                    #\n",
        "#  Introducción a Python 2        #\n",
        "#                                 #\n",
        "#  EJERCICIO 1.2                  #\n",
        "#  Mis comidas favoritas          #\n",
        "#                                 #\n",
        "#  Elaborado por:                 #\n",
        "#  Paulina Merari Acosta Sánchez  #\n",
        "#                                 #\n",
        "#  Fecha: 16/09/2021              #\n",
        "###################################\n",
        "\n",
        "# ENTRADA\n",
        "lista_comida=[]  # Se declara la lista.\n",
        "i=1\n",
        "\n",
        "while i<=7:  # El ciclo se repite hasta guardar en la lista las 7 comidas favoritas.\n",
        "  comida = input(f\"Ingrese su {i}a. comida favorita: \")  # Se solicita ingresar una comida favorita por ciclo.\n",
        "  lista_comida.append(comida)  # La comida ingresada se agrega a la lista.\n",
        "  i+=1  # i aumenta de uno en uno.\n",
        "\n",
        "# SALIDA\n",
        "for str in lista_comida: # Se imprimen las 7 comidas por separado.\n",
        "  print(f\"Una de mis comidas favoritas es {str}.\")\n"
      ],
      "execution_count": null,
      "outputs": []
    },
    {
      "cell_type": "code",
      "metadata": {
        "id": "RvcBiuysf6kj"
      },
      "source": [
        "###################################\n",
        "#  ACTIVIDAD 3                    #\n",
        "#  Introducción a Python 2        #\n",
        "#                                 #\n",
        "#  EJERCICIO 2                    #\n",
        "#  Piedra, papel o tijera         #\n",
        "#                                 #\n",
        "#  Elaborado por:                 #\n",
        "#  Paulina Merari Acosta Sánchez  #\n",
        "#                                 #\n",
        "#  Fecha: 16/09/2021              #\n",
        "###################################\n",
        "\n",
        "# Se les muestra a los jugadores las opciones.\n",
        "print(\"1. Piedra\\n2. Papel\\n3. Tijera\")\n",
        "\n",
        "# Registro de la respuesta del jugador 1.\n",
        "jugador_01 = int(input(\"Jugador 1, elija su opción: \"))\n",
        "while (jugador_01<=0 or jugador_01>3): # Verificar que su respuesta sea correcta.\n",
        "  print(\"Error -> Su opción no es correcta.\")\n",
        "  jugador_01 = int(input(\"Jugador 1, elija su opción: \"))\n",
        "\n",
        "# Registro de la respuesta del jugador 2.\n",
        "jugador_02 = int(input(\"Jugador 2, elija su opción: \"))\n",
        "while (jugador_02<=0 or jugador_02>3): # Verificar que su respuesta sea correcta.\n",
        "  print(\"Error -> Su opción no es correcta.\")\n",
        "  jugador_02 = int(input(\"Jugador 2, elija su opción: \"))\n",
        "\n",
        "# Análisis del registro de las respuestas, mediante operadores lógicos.\n",
        "if (jugador_01==1 and jugador_02==3) or (jugador_01==2 and jugador_02==1) or (jugador_01==3 and jugador_02==2):\n",
        "  print(\"GANADOR: Jugador 1\")\n",
        "\n",
        "elif (jugador_02==1 and jugador_01==3) or (jugador_02==2 and jugador_01==1) or (jugador_02==3 and jugador_01==2):\n",
        "  print(\"GANADOR: Jugador 2\")\n",
        "\n",
        "elif jugador_01 == jugador_02:\n",
        "  print(\"EMPATE\")\n",
        "  "
      ],
      "execution_count": null,
      "outputs": []
    },
    {
      "cell_type": "code",
      "metadata": {
        "colab": {
          "base_uri": "https://localhost:8080/"
        },
        "id": "uAhEp129vkhE",
        "outputId": "29dfddd0-fd5c-4723-ccf8-25ee67f75c96"
      },
      "source": [
        "###################################\n",
        "#  ACTIVIDAD 3                    #\n",
        "#  Introducción a Python 2        #\n",
        "#                                 #\n",
        "#  EJERCICIO 3                    #\n",
        "#  Serie: 123456                  #\n",
        "#                                 #\n",
        "#  Elaborado por:                 #\n",
        "#  Paulina Merari Acosta Sánchez  #\n",
        "#                                 #\n",
        "#  Fecha: 16/09/2021              #\n",
        "###################################\n",
        "\n",
        "# Se declaran los valores de la serie para formar el patrón\n",
        "serie = [1,2,3,4,5,6]\n",
        "\n",
        "# PRIMERA PARTE DEL PATRÓN\n",
        "i=6 # Se le asigna este valor a \"i\" para que la serie comience mostrando la serie completa en el primer ciclo.\n",
        "while i>0: # El ciclo se repetirá mientras que i sea mayor que 0.\n",
        "  print(serie[0:i]) \n",
        "  i-=1 # Se decrementa \"i\" para eliminar en cada ciclo un número de la serie.\n",
        "\n",
        "# SEGUNDA PARTE DEL PATRÓN\n",
        "i=2 # Se le asigna este valor a \"i\" para que la serie continúe correctamente después de la primera parte del patrón.\n",
        "while i<7: # El ciclo se repetirá mientras que i sea menor que 7.\n",
        "  print(serie[0:i])\n",
        "  i+=1 # Se incrementa \"i\" para agregar en cada ciclo un número de la serie.\n"
      ],
      "execution_count": 106,
      "outputs": [
        {
          "output_type": "stream",
          "name": "stdout",
          "text": [
            "[1, 2, 3, 4, 5, 6]\n",
            "[1, 2, 3, 4, 5]\n",
            "[1, 2, 3, 4]\n",
            "[1, 2, 3]\n",
            "[1, 2]\n",
            "[1]\n",
            "[1, 2]\n",
            "[1, 2, 3]\n",
            "[1, 2, 3, 4]\n",
            "[1, 2, 3, 4, 5]\n",
            "[1, 2, 3, 4, 5, 6]\n"
          ]
        }
      ]
    }
  ]
}