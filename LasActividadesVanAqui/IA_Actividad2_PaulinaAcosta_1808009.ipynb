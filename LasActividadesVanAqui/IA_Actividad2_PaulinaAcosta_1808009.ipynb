{
  "nbformat": 4,
  "nbformat_minor": 0,
  "metadata": {
    "colab": {
      "name": "IA_Actividad1_PaulinaAcosta_1808009.ipynb",
      "provenance": [],
      "collapsed_sections": []
    },
    "kernelspec": {
      "name": "python3",
      "display_name": "Python 3"
    },
    "language_info": {
      "name": "python"
    }
  },
  "cells": [
    {
      "cell_type": "markdown",
      "metadata": {
        "id": "UPNeuF8EaTnr"
      },
      "source": [
        "**ACTIVIDAD 2:** INTRODUCCIÓN A PYTHON\n",
        "\n",
        "\n",
        "**Nombre:** Paulina Merari Acosta Sánchez\n",
        "\n",
        "**Matrícula:** 1808009\n",
        "\n",
        "**Hora de clase:** N4 - N6"
      ]
    },
    {
      "cell_type": "code",
      "metadata": {
        "id": "l0qxoh4lWoCB"
      },
      "source": [
        "###################################\n",
        "#  ACTIVIDAD 2                    #\n",
        "#  Introducción a Python          #\n",
        "#                                 #\n",
        "#  EJERCICIO 1                    #\n",
        "#  Tu frase favorita              #\n",
        "#                                 #\n",
        "#  Elaborado por:                 #\n",
        "#  Paulina Merari Acosta Sánchez  #\n",
        "#                                 #\n",
        "#  Fecha: 01/09/2021              #\n",
        "###################################\n",
        "\n",
        "# ENTRADA DE DATOS: Nombre, edad, frase favorita y autor de la frase.\n",
        "nombre = input(\"¿Cuál es tu nombre? \")\n",
        "edad = input(f\"¿Cuántos años tienes? \")\n",
        "frase_favorita = input(\"¿Cuál es tu frase favorita? \")\n",
        "autor = input(\"¿Quién es el autor de esa frase? \")\n",
        "\n",
        "#SALIDA DEL PROGRAMA\n",
        "print(f\"\\n{nombre} tiene {edad} años y su frase favorita es:\\n\")\n",
        "print(f\"   '{frase_favorita}'\\n                 - {autor}\")"
      ],
      "execution_count": null,
      "outputs": []
    },
    {
      "cell_type": "code",
      "metadata": {
        "id": "REHFy2u4rbI3"
      },
      "source": [
        "###################################\n",
        "#  ACTIVIDAD 2                    #\n",
        "#  Introducción a Python          #\n",
        "#                                 #\n",
        "#  EJERCICIO 2                    #\n",
        "#  Operadores aritméticos         #\n",
        "#                                 #\n",
        "#  Elaborado por:                 #\n",
        "#  Paulina Merari Acosta Sánchez  #\n",
        "#                                 #\n",
        "#  Fecha: 01/09/2021              #\n",
        "###################################\n",
        "\n",
        "# ENTRADA DE DATOS\n",
        "num_E1 = int(input(\"Inserte su primer número entero: \"))\n",
        "num_E2 = int(input(\"Inserte su segundo número entero: \"))\n",
        "num_F1 = float(input(\"Inserte su primer número flotante: \"))\n",
        "num_F2 = float(input(\"Inserte su segundo número flotante: \"))\n",
        "\n",
        "# OPERACIONES ARITMETICAS\n",
        "#  Números enteros\n",
        "res_1 = num_E1 + num_E2\n",
        "res_2 = num_E1 - num_E2\n",
        "res_3 = num_E1 * num_E2\n",
        "res_4 = num_E1 / num_E2\n",
        "# Números flotantes\n",
        "res_5 = num_F1 + num_F2\n",
        "res_6 = num_F1 - num_F2\n",
        "res_7 = num_F1 * num_F2\n",
        "res_8 = num_F1 / num_F2\n",
        "\n",
        "# SALIDA DEL PROGRAMA\n",
        "print(\"\\nOperaciones aritmeticas de los dos números enteros:\")\n",
        "print(f\"{num_E1} + {num_E2} = {res_1}\")\n",
        "print(f\"{num_E1} - {num_E2} = {res_2}\")\n",
        "print(f\"{num_E1} * {num_E2} = {res_3}\")\n",
        "print(f\"{num_E1} / {num_E2} = {res_4}\")\n",
        "\n",
        "print(\"\\nOperaciones aritmeticas de los dos números flotantes:\")\n",
        "print(f\"{num_F1} + {num_F2} = {res_5}\")\n",
        "print(f\"{num_F1} - {num_F2} = {res_6}\")\n",
        "print(f\"{num_F1} * {num_F2} = {res_7}\")\n",
        "print(f\"{num_F1} / {num_F2} = {res_8}\")"
      ],
      "execution_count": null,
      "outputs": []
    },
    {
      "cell_type": "code",
      "metadata": {
        "id": "LVfb5ohDr2GG"
      },
      "source": [
        "###################################\n",
        "#  ACTIVIDAD 2                    #\n",
        "#  Introducción a Python          #\n",
        "#                                 #\n",
        "#  EJERCICIO 3                    #\n",
        "#  Operadores lógicos             #\n",
        "#                                 #\n",
        "#  Elaborado por:                 #\n",
        "#  Paulina Merari Acosta Sánchez  #\n",
        "#                                 #\n",
        "#  Fecha: 01/09/2021              #\n",
        "###################################\n",
        "\n",
        "# DECLARACION DE VARIABLES\n",
        "A = 4\n",
        "B = 10\n",
        "C = 3\n",
        "D = 8\n",
        "\n",
        "# OPERADOR LÓGICO AND\n",
        "res_AND1 = ((A>B) and (C>D))\n",
        "res_AND2 = ((A>C) and (B>D))\n",
        "\n",
        "# OPERADOR LÓGICO OR\n",
        "res_OR1 = ((A>D) or (B>C))\n",
        "res_OR2 = ((C>A) or (B>D))\n",
        "\n",
        "# OPERADOR LÓGICO NOT\n",
        "res_NOT1 = not (A>D)\n",
        "res_NOT2 = not (B>C)\n",
        "\n",
        "# SALIDA DEL PROGRAMA\n",
        "print(f\"Operador AND:\\n({A}>{B}) and ({C}>{D}) = {res_AND1}\\n({A}>{C}) and ({B}>{D}) = {res_AND2}\\n\")\n",
        "print(f\"Operador OR:\\n({A}>{D}) or ({B}>{C}) = {res_OR1}\\n({C}>{A}) or ({B}>{D}) = {res_OR2}\\n\")\n",
        "print(f\"Operador NOT:\\nnot ({A}>{D}) = {res_NOT1}\\nnot ({B}>{C}) = {res_NOT2}\\n\")\n"
      ],
      "execution_count": null,
      "outputs": []
    }
  ]
}