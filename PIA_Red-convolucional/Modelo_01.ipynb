{
  "nbformat": 4,
  "nbformat_minor": 0,
  "metadata": {
    "colab": {
      "name": "Modelo_01.ipynb",
      "provenance": [],
      "collapsed_sections": []
    },
    "kernelspec": {
      "name": "python3",
      "display_name": "Python 3"
    },
    "language_info": {
      "name": "python"
    }
  },
  "cells": [
    {
      "cell_type": "markdown",
      "metadata": {
        "id": "zW1KQry48hdf"
      },
      "source": [
        "# **Inteligencia artificial**\n",
        "# Entrenamiento de una Red Convolusional\n",
        "\n",
        "**Modelo:** 2 **Grupo:** 002 **Hora:** V4-V6 \n",
        "\n",
        "**Integrantes:**\n",
        "\n",
        "Paulina Merari Acosta Sanchez\n",
        "\n",
        "Sofía Raquel Cantú Maltos\n",
        "\n",
        "Paola Daresi Navarro Leal\n",
        "\n",
        "David Lázaro Tristán\n",
        "\n",
        "Victoria Fernandez Peña\n",
        "\n",
        "Angélica López Márquez"
      ]
    },
    {
      "cell_type": "markdown",
      "metadata": {
        "id": "vQOlL8Zhodp4"
      },
      "source": [
        "# Importar librerías y descargar Dataset"
      ]
    },
    {
      "cell_type": "code",
      "metadata": {
        "id": "5IWl4b6ioZ0c"
      },
      "source": [
        "import tensorflow as tf\n",
        "from tensorflow.keras import datasets, layers, models, callbacks\n",
        "import matplotlib.pyplot as plt\n",
        "\n",
        "(train_images, train_labels), (test_images, test_labels) = datasets.cifar100.load_data(label_mode='coarse')\n",
        "\n",
        "# Normalize pixel values to be between 0 and 1\n",
        "train_images, test_images = train_images / 255.0, test_images / 255.0"
      ],
      "execution_count": null,
      "outputs": []
    },
    {
      "cell_type": "markdown",
      "metadata": {
        "id": "Ne6GQyJUozmG"
      },
      "source": [
        "# Construir modelo"
      ]
    },
    {
      "cell_type": "code",
      "metadata": {
        "id": "DtUSo5heouIv"
      },
      "source": [
        "model = models.Sequential()\n",
        "model.add(layers.Conv2D(256, (3, 3), activation='relu', kernel_initializer='he_uniform', padding='same', input_shape=(32, 32, 3)))\n",
        "model.add(layers.SpatialDropout2D(0.1))\n",
        "model.add(layers.MaxPooling2D((2, 2)))\n",
        "model.add(layers.BatchNormalization())\n",
        "model.add(layers.Conv2D(512, (3, 3), activation='relu', kernel_initializer='he_uniform', padding='same'))\n",
        "model.add(layers.MaxPooling2D((2, 2)))\n",
        "model.add(layers.BatchNormalization())\n",
        "model.add(layers.Conv2D(1024, (3, 3), activation='relu', kernel_initializer='he_uniform', padding='same'))\n",
        "model.add(layers.SpatialDropout2D(0.2))\n",
        "model.add(layers.MaxPooling2D((2, 2)))\n",
        "model.add(layers.BatchNormalization())\n",
        "model.add(layers.Flatten())\n",
        "model.add(layers.Dense(128, activation='sigmoid', kernel_initializer='he_uniform'))\n",
        "model.add(layers.Dense(20, activation='softmax'))\n",
        "\n"
      ],
      "execution_count": null,
      "outputs": []
    },
    {
      "cell_type": "markdown",
      "metadata": {
        "id": "D3zZh7mFJJ13"
      },
      "source": [
        "# Añadir callbacks"
      ]
    },
    {
      "cell_type": "code",
      "metadata": {
        "id": "ljuGUq5TJM2Q"
      },
      "source": [
        "earlyStop = callbacks.EarlyStopping(monitor='val_loss', mode='min', patience=9)\n",
        "reduceLR = callbacks.ReduceLROnPlateau(monitor='val_loss', mode='min', patience=4, factor=0.5, min_lr=1e-6,verbose=1)\n",
        "\n"
      ],
      "execution_count": null,
      "outputs": []
    },
    {
      "cell_type": "markdown",
      "metadata": {
        "id": "unqYKtb5LOl3"
      },
      "source": [
        "# Entrenar modelo"
      ]
    },
    {
      "cell_type": "code",
      "metadata": {
        "colab": {
          "base_uri": "https://localhost:8080/"
        },
        "id": "Zf2Q9XNxLQjr",
        "outputId": "fd8b7772-4971-4847-916e-a6f3087f9181"
      },
      "source": [
        "model.compile(optimizer='adam',\n",
        "            loss=tf.keras.losses.SparseCategoricalCrossentropy(from_logits=False),\n",
        "            metrics=['accuracy'])\n",
        "history = model.fit(train_images, train_labels, batch_size=64, epochs=15, callbacks=[earlyStop, reduceLR], shuffle=True,\n",
        "                    validation_data=(test_images, test_labels))"
      ],
      "execution_count": null,
      "outputs": [
        {
          "output_type": "stream",
          "name": "stdout",
          "text": [
            "Epoch 1/15\n",
            "782/782 [==============================] - 72s 87ms/step - loss: 2.2208 - accuracy: 0.3190 - val_loss: 2.1032 - val_accuracy: 0.3522\n",
            "Epoch 2/15\n",
            "782/782 [==============================] - 65s 83ms/step - loss: 1.8451 - accuracy: 0.4269 - val_loss: 1.7584 - val_accuracy: 0.4561\n",
            "Epoch 3/15\n",
            "782/782 [==============================] - 67s 86ms/step - loss: 1.6205 - accuracy: 0.4911 - val_loss: 1.5913 - val_accuracy: 0.5059\n",
            "Epoch 4/15\n",
            "782/782 [==============================] - 68s 87ms/step - loss: 1.4226 - accuracy: 0.5513 - val_loss: 1.4465 - val_accuracy: 0.5477\n",
            "Epoch 5/15\n",
            "782/782 [==============================] - 68s 87ms/step - loss: 1.2562 - accuracy: 0.6036 - val_loss: 1.4121 - val_accuracy: 0.5584\n",
            "Epoch 6/15\n",
            "782/782 [==============================] - 68s 86ms/step - loss: 1.1042 - accuracy: 0.6464 - val_loss: 1.4522 - val_accuracy: 0.5554\n",
            "Epoch 7/15\n",
            "782/782 [==============================] - 67s 85ms/step - loss: 0.9547 - accuracy: 0.6936 - val_loss: 1.3120 - val_accuracy: 0.5948\n",
            "Epoch 8/15\n",
            "782/782 [==============================] - 67s 86ms/step - loss: 0.8136 - accuracy: 0.7379 - val_loss: 1.2818 - val_accuracy: 0.6080\n",
            "Epoch 9/15\n",
            "782/782 [==============================] - 68s 86ms/step - loss: 0.6869 - accuracy: 0.7791 - val_loss: 1.3647 - val_accuracy: 0.6048\n",
            "Epoch 10/15\n",
            "782/782 [==============================] - 67s 86ms/step - loss: 0.5707 - accuracy: 0.8170 - val_loss: 1.3472 - val_accuracy: 0.6128\n",
            "Epoch 11/15\n",
            "782/782 [==============================] - 67s 86ms/step - loss: 0.4758 - accuracy: 0.8485 - val_loss: 1.3557 - val_accuracy: 0.6201\n",
            "Epoch 12/15\n",
            "782/782 [==============================] - 66s 85ms/step - loss: 0.3982 - accuracy: 0.8734 - val_loss: 1.3943 - val_accuracy: 0.6163\n",
            "\n",
            "Epoch 00012: ReduceLROnPlateau reducing learning rate to 0.0005000000237487257.\n",
            "Epoch 13/15\n",
            "782/782 [==============================] - 68s 87ms/step - loss: 0.2618 - accuracy: 0.9218 - val_loss: 1.3422 - val_accuracy: 0.6398\n",
            "Epoch 14/15\n",
            "782/782 [==============================] - 67s 85ms/step - loss: 0.1745 - accuracy: 0.9523 - val_loss: 1.3653 - val_accuracy: 0.6478\n",
            "Epoch 15/15\n",
            "782/782 [==============================] - 68s 87ms/step - loss: 0.1340 - accuracy: 0.9655 - val_loss: 1.3858 - val_accuracy: 0.6476\n"
          ]
        }
      ]
    },
    {
      "cell_type": "markdown",
      "metadata": {
        "id": "YNhR1qm_rS5t"
      },
      "source": [
        "# Validar modelo"
      ]
    },
    {
      "cell_type": "code",
      "metadata": {
        "colab": {
          "base_uri": "https://localhost:8080/",
          "height": 319
        },
        "id": "BHnYIHVWrXAq",
        "outputId": "99bc96c5-d527-4c50-ac13-c9cb8782e597"
      },
      "source": [
        "plt.plot(history.history['accuracy'], label='accuracy')\n",
        "plt.plot(history.history['val_accuracy'], label = 'val_accuracy')\n",
        "plt.xlabel('Epoch')\n",
        "plt.ylabel('Accuracy')\n",
        "plt.ylim([0.0, 1.0])\n",
        "plt.legend(loc='lower right')\n",
        "\n",
        "test_loss, test_acc = model.evaluate(test_images,  test_labels, verbose=2)\n",
        "\n",
        "print(test_acc)"
      ],
      "execution_count": null,
      "outputs": [
        {
          "output_type": "stream",
          "name": "stdout",
          "text": [
            "313/313 - 4s - loss: 1.3858 - accuracy: 0.6476\n",
            "0.647599995136261\n"
          ]
        },
        {
          "output_type": "display_data",
          "data": {
            "text/plain": [
              "<Figure size 432x288 with 1 Axes>"
            ],
            "image/png": "[encoded data removed]"
          },
          "metadata": {
            "needs_background": "light"
          }
        }
      ]
    }
  ]
}