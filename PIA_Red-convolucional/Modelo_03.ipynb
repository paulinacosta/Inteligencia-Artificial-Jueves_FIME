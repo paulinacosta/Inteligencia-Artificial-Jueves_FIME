{
  "nbformat": 4,
  "nbformat_minor": 0,
  "metadata": {
    "colab": {
      "name": "Copia de Copy_of_Copy_of_PIA_Victoria_2(1).ipynb",
      "provenance": [],
      "collapsed_sections": []
    },
    "kernelspec": {
      "name": "python3",
      "display_name": "Python 3"
    },
    "language_info": {
      "name": "python"
    },
    "accelerator": "GPU"
  },
  "cells": [
    {
      "cell_type": "markdown",
      "metadata": {
        "id": "NfGK9BHfiLbd"
      },
      "source": [
        "# **Inteligencia artificial**\n",
        "# Entrenamiento de una Red Convolusional\n",
        "\n",
        "**Modelo:** 3 **Grupo:** 002 **Hora:** V4-V6 \n",
        "\n",
        "**Integrantes:**\n",
        "\n",
        "Paulina Merari Acosta Sanchez\n",
        "\n",
        "Sofía Raquel Cantú Maltos\n",
        "\n",
        "Paola Daresi Navarro Leal\n",
        "\n",
        "David Lázaro Tristán\n",
        "\n",
        "Victoria Fernandez Peña\n",
        "\n",
        "Angélica López Márquez"
      ]
    },
    {
      "cell_type": "markdown",
      "metadata": {
        "id": "vQOlL8Zhodp4"
      },
      "source": [
        "# Importar librerías y descargar Dataset"
      ]
    },
    {
      "cell_type": "code",
      "metadata": {
        "id": "5IWl4b6ioZ0c",
        "colab": {
          "base_uri": "https://localhost:8080/"
        },
        "outputId": "c8ad2d9d-b3cf-4357-84bb-36a05641ac21"
      },
      "source": [
        "import tensorflow as tf\n",
        "from tensorflow.keras import datasets, layers, models, callbacks\n",
        "import matplotlib.pyplot as plt\n",
        "\n",
        "(train_images, train_labels), (test_images, test_labels) = datasets.cifar100.load_data(label_mode='coarse')\n",
        "\n",
        "# Normalize pixel values to be between 0 and 1\n",
        "train_images, test_images = train_images / 255.0, test_images / 255.0\n",
        "\n",
        "print(\"Num GPUs Available: \", len(tf.config.list_physical_devices('GPU')))"
      ],
      "execution_count": null,
      "outputs": [
        {
          "output_type": "stream",
          "name": "stdout",
          "text": [
            "Downloading data from https://www.cs.toronto.edu/~kriz/cifar-100-python.tar.gz\n",
            "169009152/169001437 [==============================] - 2s 0us/step\n",
            "169017344/169001437 [==============================] - 2s 0us/step\n",
            "Num GPUs Available:  1\n"
          ]
        }
      ]
    },
    {
      "cell_type": "markdown",
      "metadata": {
        "id": "Ne6GQyJUozmG"
      },
      "source": [
        "# Construir modelo"
      ]
    },
    {
      "cell_type": "code",
      "metadata": {
        "id": "DtUSo5heouIv"
      },
      "source": [
        "with tf.device('gpu'):\n",
        "  model = models.Sequential()\n",
        "  model.add(layers.Conv2D(128, (3, 3), activation='relu', kernel_initializer='he_uniform', padding='same', input_shape=(32, 32, 3)))\n",
        "  model.add(layers.MaxPooling2D((2, 2)))\n",
        "  model.add(layers.BatchNormalization())\n",
        "  model.add(layers.Conv2D(256, (3, 3), activation='relu', kernel_initializer='he_uniform', padding='same'))\n",
        "  model.add(layers.SpatialDropout2D(0.1))\n",
        "  model.add(layers.MaxPooling2D((2, 2)))\n",
        "  model.add(layers.BatchNormalization())\n",
        "  model.add(layers.Conv2D(512, (3, 3), activation='relu', kernel_initializer='he_uniform', padding='same'))\n",
        "  model.add(layers.MaxPooling2D((2, 2)))\n",
        "  model.add(layers.BatchNormalization())\n",
        "  model.add(layers.Conv2D(1024, (3, 3), activation='relu', kernel_initializer='he_uniform', padding='same'))\n",
        "  model.add(layers.SpatialDropout2D(0.2))\n",
        "  model.add(layers.MaxPooling2D((2, 2)))\n",
        "  model.add(layers.BatchNormalization())\n",
        "  model.add(layers.Flatten())\n",
        "  model.add(layers.Dense(128, activation='sigmoid', kernel_initializer='he_uniform'))\n",
        "  model.add(layers.Dense(20, activation='softmax'))"
      ],
      "execution_count": null,
      "outputs": []
    },
    {
      "cell_type": "markdown",
      "metadata": {
        "id": "D3zZh7mFJJ13"
      },
      "source": [
        "# Añadir callbacks"
      ]
    },
    {
      "cell_type": "code",
      "metadata": {
        "id": "ljuGUq5TJM2Q"
      },
      "source": [
        "earlyStop = callbacks.EarlyStopping(monitor='val_loss', mode='min', patience=9)\n",
        "reduceLR = callbacks.ReduceLROnPlateau(monitor='val_loss', mode='min', patience=4, factor=0.5, min_lr=1e-6,verbose=1)\n",
        "\n"
      ],
      "execution_count": null,
      "outputs": []
    },
    {
      "cell_type": "markdown",
      "metadata": {
        "id": "unqYKtb5LOl3"
      },
      "source": [
        "# Entrenar modelo"
      ]
    },
    {
      "cell_type": "code",
      "metadata": {
        "colab": {
          "base_uri": "https://localhost:8080/"
        },
        "id": "Zf2Q9XNxLQjr",
        "outputId": "01657f20-e78b-48fa-a259-cf381f271880"
      },
      "source": [
        "model.compile(optimizer='adam',\n",
        "            loss=tf.keras.losses.SparseCategoricalCrossentropy(from_logits=False),\n",
        "            metrics=['accuracy'])\n",
        "history = model.fit(train_images, train_labels, batch_size=64, epochs=20, callbacks=[earlyStop, reduceLR], shuffle=True,\n",
        "                    validation_data=(test_images, test_labels))"
      ],
      "execution_count": null,
      "outputs": [
        {
          "output_type": "stream",
          "name": "stdout",
          "text": [
            "Epoch 1/20\n",
            "782/782 [==============================] - 68s 46ms/step - loss: 2.0426 - accuracy: 0.3703 - val_loss: 1.7071 - val_accuracy: 0.4622 - lr: 0.0010\n",
            "Epoch 2/20\n",
            "782/782 [==============================] - 35s 45ms/step - loss: 1.5312 - accuracy: 0.5199 - val_loss: 1.4966 - val_accuracy: 0.5318 - lr: 0.0010\n",
            "Epoch 3/20\n",
            "782/782 [==============================] - 35s 45ms/step - loss: 1.2142 - accuracy: 0.6159 - val_loss: 1.3165 - val_accuracy: 0.5922 - lr: 0.0010\n",
            "Epoch 4/20\n",
            "782/782 [==============================] - 35s 45ms/step - loss: 0.9246 - accuracy: 0.7075 - val_loss: 1.3696 - val_accuracy: 0.5908 - lr: 0.0010\n",
            "Epoch 5/20\n",
            "782/782 [==============================] - 36s 46ms/step - loss: 0.6539 - accuracy: 0.7937 - val_loss: 1.3037 - val_accuracy: 0.6219 - lr: 0.0010\n",
            "Epoch 6/20\n",
            "782/782 [==============================] - 35s 45ms/step - loss: 0.4172 - accuracy: 0.8702 - val_loss: 1.3727 - val_accuracy: 0.6243 - lr: 0.0010\n",
            "Epoch 7/20\n",
            "782/782 [==============================] - 35s 45ms/step - loss: 0.2688 - accuracy: 0.9154 - val_loss: 1.4152 - val_accuracy: 0.6349 - lr: 0.0010\n",
            "Epoch 8/20\n",
            "782/782 [==============================] - 35s 45ms/step - loss: 0.1957 - accuracy: 0.9393 - val_loss: 1.4867 - val_accuracy: 0.6367 - lr: 0.0010\n",
            "Epoch 9/20\n",
            "781/782 [============================>.] - ETA: 0s - loss: 0.1561 - accuracy: 0.9514\n",
            "Epoch 00009: ReduceLROnPlateau reducing learning rate to 0.0005000000237487257.\n",
            "782/782 [==============================] - 35s 45ms/step - loss: 0.1562 - accuracy: 0.9514 - val_loss: 1.5436 - val_accuracy: 0.6339 - lr: 0.0010\n",
            "Epoch 10/20\n",
            "782/782 [==============================] - 36s 45ms/step - loss: 0.0848 - accuracy: 0.9752 - val_loss: 1.4419 - val_accuracy: 0.6621 - lr: 5.0000e-04\n",
            "Epoch 11/20\n",
            "782/782 [==============================] - 35s 45ms/step - loss: 0.0390 - accuracy: 0.9907 - val_loss: 1.4575 - val_accuracy: 0.6678 - lr: 5.0000e-04\n",
            "Epoch 12/20\n",
            "782/782 [==============================] - 35s 45ms/step - loss: 0.0296 - accuracy: 0.9933 - val_loss: 1.5013 - val_accuracy: 0.6696 - lr: 5.0000e-04\n",
            "Epoch 13/20\n",
            "782/782 [==============================] - ETA: 0s - loss: 0.0294 - accuracy: 0.9928\n",
            "Epoch 00013: ReduceLROnPlateau reducing learning rate to 0.0002500000118743628.\n",
            "782/782 [==============================] - 36s 46ms/step - loss: 0.0294 - accuracy: 0.9928 - val_loss: 1.5173 - val_accuracy: 0.6721 - lr: 5.0000e-04\n",
            "Epoch 14/20\n",
            "782/782 [==============================] - 36s 45ms/step - loss: 0.0208 - accuracy: 0.9953 - val_loss: 1.4955 - val_accuracy: 0.6822 - lr: 2.5000e-04\n"
          ]
        }
      ]
    },
    {
      "cell_type": "markdown",
      "metadata": {
        "id": "YNhR1qm_rS5t"
      },
      "source": [
        "# Validar modelo"
      ]
    },
    {
      "cell_type": "code",
      "metadata": {
        "colab": {
          "base_uri": "https://localhost:8080/",
          "height": 318
        },
        "id": "BHnYIHVWrXAq",
        "outputId": "eafdacae-737e-43b7-c050-c69acc5efe4d"
      },
      "source": [
        "plt.plot(history.history['accuracy'], label='accuracy')\n",
        "plt.plot(history.history['val_accuracy'], label = 'val_accuracy')\n",
        "plt.xlabel('Epoch')\n",
        "plt.ylabel('Accuracy')\n",
        "plt.ylim([0.0, 1.0])\n",
        "plt.legend(loc='lower right')\n",
        "\n",
        "test_loss, test_acc = model.evaluate(test_images,  test_labels, verbose=2)\n",
        "\n",
        "print(test_acc)"
      ],
      "execution_count": null,
      "outputs": [
        {
          "output_type": "stream",
          "name": "stdout",
          "text": [
            "313/313 - 3s - loss: 1.4955 - accuracy: 0.6822 - 3s/epoch - 11ms/step\n",
            "0.682200014591217\n"
          ]
        },
        {
          "output_type": "display_data",
          "data": {
            "image/png": "[encoded data removed]",
            "text/plain": [
              "<Figure size 432x288 with 1 Axes>"
            ]
          },
          "metadata": {
            "needs_background": "light"
          }
        }
      ]
    }
  ]
}