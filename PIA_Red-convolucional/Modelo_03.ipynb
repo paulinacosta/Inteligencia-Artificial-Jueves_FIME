{
  "nbformat": 4,
  "nbformat_minor": 0,
  "metadata": {
    "colab": {
      "name": "Copy_of_Copy_of_PIA_Victoria_2(1).ipynb",
      "provenance": [],
      "collapsed_sections": []
    },
    "kernelspec": {
      "name": "python3",
      "display_name": "Python 3"
    },
    "language_info": {
      "name": "python"
    },
    "accelerator": "GPU"
  },
  "cells": [
    {
      "cell_type": "markdown",
      "metadata": {
        "id": "NfGK9BHfiLbd"
      },
      "source": [
        "# **Inteligencia artificial**\n",
        "# Entrenamiento de una Red Convolusional\n",
        "\n",
        "**Modelo:** 3 **Grupo:** 002 **Hora:** V4-V6 \n",
        "\n",
        "**Integrantes:**\n",
        "\n",
        "Paulina Merari Acosta Sanchez\n",
        "\n",
        "Sofía Raquel Cantú Maltos\n",
        "\n",
        "Paola Daresi Navarro Leal\n",
        "\n",
        "David Lázaro Tristán\n",
        "\n",
        "Victoria Fernandez Peña\n",
        "\n",
        "Angélica López Márquez"
      ]
    },
    {
      "cell_type": "markdown",
      "metadata": {
        "id": "vQOlL8Zhodp4"
      },
      "source": [
        "# Importar librerías y descargar Dataset"
      ]
    },
    {
      "cell_type": "code",
      "metadata": {
        "id": "5IWl4b6ioZ0c",
        "colab": {
          "base_uri": "https://localhost:8080/"
        },
        "outputId": "a681cc43-8f24-4d77-83d0-e9f0a79185ab"
      },
      "source": [
        "import tensorflow as tf\n",
        "from tensorflow.keras import datasets, layers, models, callbacks\n",
        "import matplotlib.pyplot as plt\n",
        "\n",
        "(train_images, train_labels), (test_images, test_labels) = datasets.cifar100.load_data(label_mode='coarse')\n",
        "\n",
        "# Normalize pixel values to be between 0 and 1\n",
        "train_images, test_images = train_images / 255.0, test_images / 255.0\n",
        "\n",
        "print(\"Num GPUs Available: \", len(tf.config.list_physical_devices('GPU')))"
      ],
      "execution_count": 1,
      "outputs": [
        {
          "output_type": "stream",
          "name": "stdout",
          "text": [
            "Downloading data from https://www.cs.toronto.edu/~kriz/cifar-100-python.tar.gz\n",
            "169009152/169001437 [==============================] - 3s 0us/step\n",
            "169017344/169001437 [==============================] - 3s 0us/step\n",
            "Num GPUs Available:  1\n"
          ]
        }
      ]
    },
    {
      "cell_type": "markdown",
      "metadata": {
        "id": "Ne6GQyJUozmG"
      },
      "source": [
        "# Construir modelo"
      ]
    },
    {
      "cell_type": "code",
      "metadata": {
        "id": "DtUSo5heouIv"
      },
      "source": [
        "with tf.device('gpu'):\n",
        "  model = models.Sequential()\n",
        "  model.add(layers.Conv2D(128, (3, 3), activation='relu', kernel_initializer='he_uniform', padding='same', input_shape=(32, 32, 3)))\n",
        "  model.add(layers.MaxPooling2D((2, 2)))\n",
        "  model.add(layers.BatchNormalization())\n",
        "  model.add(layers.Conv2D(256, (3, 3), activation='relu', kernel_initializer='he_uniform', padding='same'))\n",
        "  model.add(layers.SpatialDropout2D(0.1))\n",
        "  model.add(layers.MaxPooling2D((2, 2)))\n",
        "  model.add(layers.BatchNormalization())\n",
        "  model.add(layers.Conv2D(512, (3, 3), activation='relu', kernel_initializer='he_uniform', padding='same'))\n",
        "  model.add(layers.MaxPooling2D((2, 2)))\n",
        "  model.add(layers.BatchNormalization())\n",
        "  model.add(layers.Conv2D(1024, (3, 3), activation='relu', kernel_initializer='he_uniform', padding='same'))\n",
        "  model.add(layers.SpatialDropout2D(0.2))\n",
        "  model.add(layers.MaxPooling2D((2, 2)))\n",
        "  model.add(layers.BatchNormalization())\n",
        "  model.add(layers.Flatten())\n",
        "  model.add(layers.Dense(128, activation='sigmoid', kernel_initializer='he_uniform'))\n",
        "  model.add(layers.Dense(20, activation='softmax'))"
      ],
      "execution_count": 2,
      "outputs": []
    },
    {
      "cell_type": "markdown",
      "metadata": {
        "id": "D3zZh7mFJJ13"
      },
      "source": [
        "# Añadir callbacks"
      ]
    },
    {
      "cell_type": "code",
      "metadata": {
        "id": "ljuGUq5TJM2Q"
      },
      "source": [
        "earlyStop = callbacks.EarlyStopping(monitor='val_loss', mode='min', patience=9)\n",
        "reduceLR = callbacks.ReduceLROnPlateau(monitor='val_loss', mode='min', patience=4, factor=0.5, min_lr=1e-6,verbose=1)\n",
        "\n"
      ],
      "execution_count": 3,
      "outputs": []
    },
    {
      "cell_type": "markdown",
      "metadata": {
        "id": "unqYKtb5LOl3"
      },
      "source": [
        "# Entrenar modelo"
      ]
    },
    {
      "cell_type": "code",
      "metadata": {
        "colab": {
          "base_uri": "https://localhost:8080/"
        },
        "id": "Zf2Q9XNxLQjr",
        "outputId": "5d1c0c5a-63d0-47a4-a572-7807cdaef6b9"
      },
      "source": [
        "model.compile(optimizer='adam',\n",
        "            loss=tf.keras.losses.SparseCategoricalCrossentropy(from_logits=False),\n",
        "            metrics=['accuracy'])\n",
        "history = model.fit(train_images, train_labels, batch_size=64, epochs=15, callbacks=[earlyStop, reduceLR], shuffle=True,\n",
        "                    validation_data=(test_images, test_labels))"
      ],
      "execution_count": 4,
      "outputs": [
        {
          "output_type": "stream",
          "name": "stdout",
          "text": [
            "Epoch 1/15\n",
            "782/782 [==============================] - 69s 49ms/step - loss: 2.0461 - accuracy: 0.3672 - val_loss: 1.7457 - val_accuracy: 0.4550 - lr: 0.0010\n",
            "Epoch 2/15\n",
            "782/782 [==============================] - 38s 49ms/step - loss: 1.5342 - accuracy: 0.5219 - val_loss: 1.5959 - val_accuracy: 0.5002 - lr: 0.0010\n",
            "Epoch 3/15\n",
            "782/782 [==============================] - 37s 48ms/step - loss: 1.2192 - accuracy: 0.6164 - val_loss: 1.3990 - val_accuracy: 0.5663 - lr: 0.0010\n",
            "Epoch 4/15\n",
            "782/782 [==============================] - 37s 48ms/step - loss: 0.9335 - accuracy: 0.7048 - val_loss: 1.2261 - val_accuracy: 0.6231 - lr: 0.0010\n",
            "Epoch 5/15\n",
            "782/782 [==============================] - 37s 47ms/step - loss: 0.6522 - accuracy: 0.7952 - val_loss: 1.2136 - val_accuracy: 0.6356 - lr: 0.0010\n",
            "Epoch 6/15\n",
            "782/782 [==============================] - 37s 48ms/step - loss: 0.4217 - accuracy: 0.8682 - val_loss: 1.3483 - val_accuracy: 0.6248 - lr: 0.0010\n",
            "Epoch 7/15\n",
            "782/782 [==============================] - 37s 47ms/step - loss: 0.2643 - accuracy: 0.9195 - val_loss: 1.4114 - val_accuracy: 0.6320 - lr: 0.0010\n",
            "Epoch 8/15\n",
            "782/782 [==============================] - 37s 48ms/step - loss: 0.1898 - accuracy: 0.9423 - val_loss: 1.4857 - val_accuracy: 0.6310 - lr: 0.0010\n",
            "Epoch 9/15\n",
            "781/782 [============================>.] - ETA: 0s - loss: 0.1525 - accuracy: 0.9523\n",
            "Epoch 00009: ReduceLROnPlateau reducing learning rate to 0.0005000000237487257.\n",
            "782/782 [==============================] - 37s 47ms/step - loss: 0.1525 - accuracy: 0.9523 - val_loss: 1.5753 - val_accuracy: 0.6256 - lr: 0.0010\n",
            "Epoch 10/15\n",
            "782/782 [==============================] - 37s 48ms/step - loss: 0.0811 - accuracy: 0.9773 - val_loss: 1.4123 - val_accuracy: 0.6688 - lr: 5.0000e-04\n",
            "Epoch 11/15\n",
            "782/782 [==============================] - 37s 48ms/step - loss: 0.0375 - accuracy: 0.9910 - val_loss: 1.5111 - val_accuracy: 0.6634 - lr: 5.0000e-04\n",
            "Epoch 12/15\n",
            "782/782 [==============================] - 38s 48ms/step - loss: 0.0280 - accuracy: 0.9935 - val_loss: 1.5411 - val_accuracy: 0.6623 - lr: 5.0000e-04\n",
            "Epoch 13/15\n",
            "782/782 [==============================] - ETA: 0s - loss: 0.0297 - accuracy: 0.9921\n",
            "Epoch 00013: ReduceLROnPlateau reducing learning rate to 0.0002500000118743628.\n",
            "782/782 [==============================] - 38s 48ms/step - loss: 0.0297 - accuracy: 0.9921 - val_loss: 1.6398 - val_accuracy: 0.6528 - lr: 5.0000e-04\n",
            "Epoch 14/15\n",
            "782/782 [==============================] - 38s 49ms/step - loss: 0.0200 - accuracy: 0.9953 - val_loss: 1.5531 - val_accuracy: 0.6687 - lr: 2.5000e-04\n"
          ]
        }
      ]
    },
    {
      "cell_type": "markdown",
      "metadata": {
        "id": "YNhR1qm_rS5t"
      },
      "source": [
        "# Validar modelo"
      ]
    },
    {
      "cell_type": "code",
      "metadata": {
        "colab": {
          "base_uri": "https://localhost:8080/",
          "height": 319
        },
        "id": "BHnYIHVWrXAq",
        "outputId": "167e9f59-8674-48df-d277-d70e8649a1b7"
      },
      "source": [
        "plt.plot(history.history['accuracy'], label='accuracy')\n",
        "plt.plot(history.history['val_accuracy'], label = 'val_accuracy')\n",
        "plt.xlabel('Epoch')\n",
        "plt.ylabel('Accuracy')\n",
        "plt.ylim([0.0, 1.0])\n",
        "plt.legend(loc='lower right')\n",
        "\n",
        "test_loss, test_acc = model.evaluate(test_images,  test_labels, verbose=2)\n",
        "\n",
        "print(test_acc)"
      ],
      "execution_count": 5,
      "outputs": [
        {
          "output_type": "stream",
          "name": "stdout",
          "text": [
            "313/313 - 3s - loss: 1.5531 - accuracy: 0.6687 - 3s/epoch - 11ms/step\n",
            "0.6686999797821045\n"
          ]
        },
        {
          "output_type": "display_data",
          "data": {
            "image/png": "[encoded data removed]",
            "text/plain": [
              "<Figure size 432x288 with 1 Axes>"
            ]
          },
          "metadata": {
            "needs_background": "light"
          }
        }
      ]
    }
  ]
}