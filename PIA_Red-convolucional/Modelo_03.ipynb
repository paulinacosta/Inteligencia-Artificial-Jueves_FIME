{
  "nbformat": 4,
  "nbformat_minor": 0,
  "metadata": {
    "colab": {
      "name": "Modelo_03.ipynb",
      "provenance": [],
      "collapsed_sections": []
    },
    "kernelspec": {
      "name": "python3",
      "display_name": "Python 3"
    },
    "language_info": {
      "name": "python"
    },
    "accelerator": "GPU"
  },
  "cells": [
    {
      "cell_type": "markdown",
      "metadata": {
        "id": "NfGK9BHfiLbd"
      },
      "source": [
        "# **Inteligencia artificial**\n",
        "# Entrenamiento de una Red Convolusional\n",
        "\n",
        "**Modelo:** 3 **Grupo:** 002 **Hora:** V4-V6 \n",
        "\n",
        "**Integrantes:**\n",
        "\n",
        "Paulina Merari Acosta Sanchez\n",
        "\n",
        "Sofía Raquel Cantú Maltos\n",
        "\n",
        "Paola Daresi Navarro Leal\n",
        "\n",
        "David Lázaro Tristán\n",
        "\n",
        "Victoria Fernandez Peña\n",
        "\n",
        "Angélica López Márquez\n",
        "\n",
        "\n"
      ]
    },
    {
      "cell_type": "markdown",
      "metadata": {
        "id": "vQOlL8Zhodp4"
      },
      "source": [
        "# Importar librerías y descargar Dataset"
      ]
    },
    {
      "cell_type": "code",
      "metadata": {
        "id": "5IWl4b6ioZ0c",
        "colab": {
          "base_uri": "https://localhost:8080/"
        },
        "outputId": "52be761b-9a36-4441-8c1a-20fe7ac222df"
      },
      "source": [
        "import tensorflow as tf\n",
        "from tensorflow.keras import datasets, layers, models, callbacks\n",
        "import matplotlib.pyplot as plt\n",
        "\n",
        "(train_images, train_labels), (test_images, test_labels) = datasets.cifar100.load_data(label_mode='coarse')\n",
        "\n",
        "# Normalize pixel values to be between 0 and 1\n",
        "train_images, test_images = train_images / 255.0, test_images / 255.0\n",
        "\n",
        "print(\"Num GPUs Available: \", len(tf.config.list_physical_devices('GPU')))"
      ],
      "execution_count": null,
      "outputs": [
        {
          "output_type": "stream",
          "name": "stdout",
          "text": [
            "Downloading data from https://www.cs.toronto.edu/~kriz/cifar-100-python.tar.gz\n",
            "169009152/169001437 [==============================] - 5s 0us/step\n",
            "169017344/169001437 [==============================] - 5s 0us/step\n",
            "Num GPUs Available:  1\n"
          ]
        }
      ]
    },
    {
      "cell_type": "markdown",
      "metadata": {
        "id": "Ne6GQyJUozmG"
      },
      "source": [
        "# Construir modelo"
      ]
    },
    {
      "cell_type": "code",
      "metadata": {
        "id": "DtUSo5heouIv"
      },
      "source": [
        "with tf.device('gpu'):\n",
        "  model = models.Sequential()\n",
        "  model.add(layers.Conv2D(128, (3, 3), activation='relu', kernel_initializer='he_uniform', padding='same', input_shape=(32, 32, 3)))\n",
        "  model.add(layers.MaxPooling2D((2, 2)))\n",
        "  model.add(layers.BatchNormalization())\n",
        "  model.add(layers.Conv2D(256, (3, 3), activation='relu', kernel_initializer='he_uniform', padding='same'))\n",
        "  model.add(layers.SpatialDropout2D(0.1))\n",
        "  model.add(layers.MaxPooling2D((2, 2)))\n",
        "  model.add(layers.BatchNormalization())\n",
        "  model.add(layers.Conv2D(512, (3, 3), activation='relu', kernel_initializer='he_uniform', padding='same'))\n",
        "  model.add(layers.MaxPooling2D((2, 2)))\n",
        "  model.add(layers.BatchNormalization())\n",
        "  model.add(layers.Conv2D(1024, (3, 3), activation='relu', kernel_initializer='he_uniform', padding='same'))\n",
        "  model.add(layers.SpatialDropout2D(0.2))\n",
        "  model.add(layers.MaxPooling2D((2, 2)))\n",
        "  model.add(layers.BatchNormalization())\n",
        "  model.add(layers.Flatten())\n",
        "  model.add(layers.Dense(128, activation='sigmoid', kernel_initializer='he_uniform'))\n",
        "  model.add(layers.Dense(20, activation='softmax'))"
      ],
      "execution_count": null,
      "outputs": []
    },
    {
      "cell_type": "markdown",
      "metadata": {
        "id": "D3zZh7mFJJ13"
      },
      "source": [
        "# Añadir callbacks"
      ]
    },
    {
      "cell_type": "code",
      "metadata": {
        "id": "ljuGUq5TJM2Q"
      },
      "source": [
        "earlyStop = callbacks.EarlyStopping(monitor='val_loss', mode='min', patience=9)\n",
        "reduceLR = callbacks.ReduceLROnPlateau(monitor='val_loss', mode='min', patience=4, factor=0.5, min_lr=1e-6,verbose=1)\n",
        "\n"
      ],
      "execution_count": null,
      "outputs": []
    },
    {
      "cell_type": "markdown",
      "metadata": {
        "id": "unqYKtb5LOl3"
      },
      "source": [
        "# Entrenar modelo"
      ]
    },
    {
      "cell_type": "code",
      "metadata": {
        "colab": {
          "base_uri": "https://localhost:8080/"
        },
        "id": "Zf2Q9XNxLQjr",
        "outputId": "5ca76439-5ceb-4f53-8fce-976a0369cc98"
      },
      "source": [
        "model.compile(optimizer='adam',\n",
        "            loss=tf.keras.losses.SparseCategoricalCrossentropy(from_logits=False),\n",
        "            metrics=['accuracy'])\n",
        "history = model.fit(train_images, train_labels, batch_size=64, epochs=20, callbacks=[earlyStop, reduceLR], shuffle=True,\n",
        "                    validation_data=(test_images, test_labels))"
      ],
      "execution_count": null,
      "outputs": [
        {
          "output_type": "stream",
          "name": "stdout",
          "text": [
            "Epoch 1/20\n",
            "782/782 [==============================] - 69s 49ms/step - loss: 2.0403 - accuracy: 0.3682 - val_loss: 1.9974 - val_accuracy: 0.3966 - lr: 0.0010\n",
            "Epoch 2/20\n",
            "782/782 [==============================] - 37s 47ms/step - loss: 1.5517 - accuracy: 0.5132 - val_loss: 1.5060 - val_accuracy: 0.5239 - lr: 0.0010\n",
            "Epoch 3/20\n",
            "782/782 [==============================] - 37s 48ms/step - loss: 1.2451 - accuracy: 0.6090 - val_loss: 1.5851 - val_accuracy: 0.5225 - lr: 0.0010\n",
            "Epoch 4/20\n",
            "782/782 [==============================] - 37s 48ms/step - loss: 0.9554 - accuracy: 0.6972 - val_loss: 1.2618 - val_accuracy: 0.6111 - lr: 0.0010\n",
            "Epoch 5/20\n",
            "782/782 [==============================] - 37s 47ms/step - loss: 0.6807 - accuracy: 0.7854 - val_loss: 1.2614 - val_accuracy: 0.6219 - lr: 0.0010\n",
            "Epoch 6/20\n",
            "782/782 [==============================] - 37s 48ms/step - loss: 0.4404 - accuracy: 0.8624 - val_loss: 1.3146 - val_accuracy: 0.6340 - lr: 0.0010\n",
            "Epoch 7/20\n",
            "782/782 [==============================] - 37s 47ms/step - loss: 0.2893 - accuracy: 0.9110 - val_loss: 1.4173 - val_accuracy: 0.6303 - lr: 0.0010\n",
            "Epoch 8/20\n",
            "782/782 [==============================] - 37s 47ms/step - loss: 0.2046 - accuracy: 0.9362 - val_loss: 1.4417 - val_accuracy: 0.6339 - lr: 0.0010\n",
            "Epoch 9/20\n",
            "781/782 [============================>.] - ETA: 0s - loss: 0.1671 - accuracy: 0.9467\n",
            "Epoch 00009: ReduceLROnPlateau reducing learning rate to 0.0005000000237487257.\n",
            "782/782 [==============================] - 37s 47ms/step - loss: 0.1672 - accuracy: 0.9467 - val_loss: 1.5008 - val_accuracy: 0.6328 - lr: 0.0010\n",
            "Epoch 10/20\n",
            "782/782 [==============================] - 37s 47ms/step - loss: 0.0803 - accuracy: 0.9777 - val_loss: 1.4214 - val_accuracy: 0.6649 - lr: 5.0000e-04\n",
            "Epoch 11/20\n",
            "782/782 [==============================] - 37s 47ms/step - loss: 0.0357 - accuracy: 0.9923 - val_loss: 1.4542 - val_accuracy: 0.6664 - lr: 5.0000e-04\n",
            "Epoch 12/20\n",
            "782/782 [==============================] - 37s 47ms/step - loss: 0.0273 - accuracy: 0.9945 - val_loss: 1.5580 - val_accuracy: 0.6601 - lr: 5.0000e-04\n",
            "Epoch 13/20\n",
            "781/782 [============================>.] - ETA: 0s - loss: 0.0315 - accuracy: 0.9918\n",
            "Epoch 00013: ReduceLROnPlateau reducing learning rate to 0.0002500000118743628.\n",
            "782/782 [==============================] - 37s 47ms/step - loss: 0.0315 - accuracy: 0.9918 - val_loss: 1.6017 - val_accuracy: 0.6600 - lr: 5.0000e-04\n",
            "Epoch 14/20\n",
            "782/782 [==============================] - 37s 47ms/step - loss: 0.0201 - accuracy: 0.9954 - val_loss: 1.5639 - val_accuracy: 0.6702 - lr: 2.5000e-04\n"
          ]
        }
      ]
    },
    {
      "cell_type": "markdown",
      "metadata": {
        "id": "YNhR1qm_rS5t"
      },
      "source": [
        "# Validar modelo"
      ]
    },
    {
      "cell_type": "code",
      "metadata": {
        "colab": {
          "base_uri": "https://localhost:8080/",
          "height": 317
        },
        "id": "BHnYIHVWrXAq",
        "outputId": "4f184497-4528-4dc6-94e2-814ac8a473c8"
      },
      "source": [
        "plt.plot(history.history['accuracy'], label='accuracy')\n",
        "plt.plot(history.history['val_accuracy'], label = 'val_accuracy')\n",
        "plt.xlabel('Epoch')\n",
        "plt.ylabel('Accuracy')\n",
        "plt.ylim([0.0, 1.0])\n",
        "plt.legend(loc='lower right')\n",
        "\n",
        "test_loss, test_acc = model.evaluate(test_images,  test_labels, verbose=2)\n",
        "\n",
        "print(test_acc)"
      ],
      "execution_count": null,
      "outputs": [
        {
          "output_type": "stream",
          "name": "stdout",
          "text": [
            "313/313 - 4s - loss: 1.5639 - accuracy: 0.6702 - 4s/epoch - 11ms/step\n",
            "0.670199990272522\n"
          ]
        },
        {
          "output_type": "display_data",
          "data": {
            "image/png": "[encoded data removed]",
            "text/plain": [
              "<Figure size 432x288 with 1 Axes>"
            ]
          },
          "metadata": {
            "needs_background": "light"
          }
        }
      ]
    }
  ]
}