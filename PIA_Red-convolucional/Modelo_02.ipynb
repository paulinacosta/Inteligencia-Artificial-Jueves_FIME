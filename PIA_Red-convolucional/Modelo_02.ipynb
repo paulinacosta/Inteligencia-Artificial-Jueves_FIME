{
  "nbformat": 4,
  "nbformat_minor": 0,
  "metadata": {
    "colab": {
      "name": "Modelo_02.ipynb",
      "provenance": [],
      "collapsed_sections": []
    },
    "kernelspec": {
      "name": "python3",
      "display_name": "Python 3"
    },
    "language_info": {
      "name": "python"
    },
    "accelerator": "GPU"
  },
  "cells": [
    {
      "cell_type": "markdown",
      "metadata": {
        "id": "F9XAd2Gqy968"
      },
      "source": [
        "# **Inteligencia artificial**\n",
        "# Entrenamiento de una Red Convolusional\n",
        "\n",
        "**Modelo:** 2 **Grupo:** 002 **Hora:** V4-V6 \n",
        "\n",
        "**Integrantes:**\n",
        "\n",
        "Paulina Merari Acosta Sanchez\n",
        "\n",
        "Sofía Raquel Cantú Maltos\n",
        "\n",
        "Paola Daresi Navarro Leal\n",
        "\n",
        "David Lázaro Tristán\n",
        "\n",
        "Victoria Fernandez Peña\n",
        "\n",
        "Angélica López Márquez\n",
        "\n",
        "\n"
      ]
    },
    {
      "cell_type": "markdown",
      "metadata": {
        "id": "vQOlL8Zhodp4"
      },
      "source": [
        "# Importar librerías y descargar Dataset"
      ]
    },
    {
      "cell_type": "code",
      "metadata": {
        "id": "5IWl4b6ioZ0c"
      },
      "source": [
        "import tensorflow as tf\n",
        "from tensorflow.keras import datasets, layers, models, callbacks\n",
        "import matplotlib.pyplot as plt\n",
        "\n",
        "(train_images, train_labels), (test_images, test_labels) = datasets.cifar100.load_data(label_mode='coarse')\n",
        "\n",
        "# Normalize pixel values to be between 0 and 1\n",
        "train_images, test_images = train_images / 255.0, test_images / 255.0"
      ],
      "execution_count": 7,
      "outputs": []
    },
    {
      "cell_type": "markdown",
      "metadata": {
        "id": "Ne6GQyJUozmG"
      },
      "source": [
        "# Construir modelo"
      ]
    },
    {
      "cell_type": "code",
      "metadata": {
        "id": "DtUSo5heouIv"
      },
      "source": [
        "with tf.device(\"gpu\"):\n",
        "  model = models.Sequential()\n",
        "  model.add(layers.Conv2D(256, (3, 3), activation='relu', kernel_initializer='he_uniform', padding='same', input_shape=(32, 32, 3)))\n",
        "  model.add(layers.SpatialDropout2D(0.1))\n",
        "  model.add(layers.MaxPooling2D((2, 2)))\n",
        "  model.add(layers.BatchNormalization())\n",
        "  model.add(layers.Conv2D(512, (3, 3), activation='relu', kernel_initializer='he_uniform', padding='same'))\n",
        "  model.add(layers.MaxPooling2D((2, 2)))\n",
        "  model.add(layers.BatchNormalization())\n",
        "  model.add(layers.Conv2D(1024, (3, 3), activation='relu', kernel_initializer='he_uniform', padding='same'))\n",
        "  model.add(layers.SpatialDropout2D(0.2))\n",
        "  model.add(layers.MaxPooling2D((2, 2)))\n",
        "  model.add(layers.BatchNormalization())\n",
        "  model.add(layers.Flatten())\n",
        "  model.add(layers.Dense(128, activation='sigmoid', kernel_initializer='he_uniform'))\n",
        "  model.add(layers.Dense(20, activation='softmax'))\n",
        "\n"
      ],
      "execution_count": 8,
      "outputs": []
    },
    {
      "cell_type": "markdown",
      "metadata": {
        "id": "D3zZh7mFJJ13"
      },
      "source": [
        "# Añadir callbacks"
      ]
    },
    {
      "cell_type": "code",
      "metadata": {
        "id": "ljuGUq5TJM2Q"
      },
      "source": [
        "earlyStop = callbacks.EarlyStopping(monitor='val_loss', mode='min', patience=9)\n",
        "reduceLR = callbacks.ReduceLROnPlateau(monitor='val_loss', mode='min', patience=4, factor=0.5, min_lr=1e-6,verbose=1)\n",
        "\n"
      ],
      "execution_count": 9,
      "outputs": []
    },
    {
      "cell_type": "markdown",
      "metadata": {
        "id": "unqYKtb5LOl3"
      },
      "source": [
        "# Entrenar modelo"
      ]
    },
    {
      "cell_type": "code",
      "metadata": {
        "colab": {
          "base_uri": "https://localhost:8080/"
        },
        "id": "Zf2Q9XNxLQjr",
        "outputId": "8968a93a-33c2-42e9-c836-b70cefe8390f"
      },
      "source": [
        "model.compile(optimizer='adam',\n",
        "            loss=tf.keras.losses.SparseCategoricalCrossentropy(from_logits=False),\n",
        "            metrics=['accuracy'])\n",
        "history = model.fit(train_images, train_labels, batch_size=64, epochs=18, callbacks=[earlyStop, reduceLR], shuffle=True,\n",
        "                    validation_data=(test_images, test_labels))"
      ],
      "execution_count": 11,
      "outputs": [
        {
          "output_type": "stream",
          "name": "stdout",
          "text": [
            "Epoch 1/18\n",
            "782/782 [==============================] - 64s 80ms/step - loss: 2.2211 - accuracy: 0.3162 - val_loss: 2.0224 - val_accuracy: 0.3710 - lr: 0.0010\n",
            "Epoch 2/18\n",
            "782/782 [==============================] - 61s 79ms/step - loss: 1.8607 - accuracy: 0.4198 - val_loss: 1.8190 - val_accuracy: 0.4388 - lr: 0.0010\n",
            "Epoch 3/18\n",
            "782/782 [==============================] - 61s 78ms/step - loss: 1.6431 - accuracy: 0.4863 - val_loss: 1.6274 - val_accuracy: 0.4935 - lr: 0.0010\n",
            "Epoch 4/18\n",
            "782/782 [==============================] - 61s 79ms/step - loss: 1.4577 - accuracy: 0.5420 - val_loss: 1.5006 - val_accuracy: 0.5307 - lr: 0.0010\n",
            "Epoch 5/18\n",
            "782/782 [==============================] - 64s 81ms/step - loss: 1.2966 - accuracy: 0.5917 - val_loss: 1.3750 - val_accuracy: 0.5703 - lr: 0.0010\n",
            "Epoch 6/18\n",
            "782/782 [==============================] - 61s 79ms/step - loss: 1.1399 - accuracy: 0.6398 - val_loss: 1.3352 - val_accuracy: 0.5851 - lr: 0.0010\n",
            "Epoch 7/18\n",
            "782/782 [==============================] - 61s 78ms/step - loss: 0.9936 - accuracy: 0.6845 - val_loss: 1.3079 - val_accuracy: 0.5951 - lr: 0.0010\n",
            "Epoch 8/18\n",
            "782/782 [==============================] - 61s 79ms/step - loss: 0.8578 - accuracy: 0.7253 - val_loss: 1.2714 - val_accuracy: 0.6138 - lr: 0.0010\n",
            "Epoch 9/18\n",
            "782/782 [==============================] - 63s 81ms/step - loss: 0.7284 - accuracy: 0.7674 - val_loss: 1.3252 - val_accuracy: 0.6008 - lr: 0.0010\n",
            "Epoch 10/18\n",
            "782/782 [==============================] - 63s 81ms/step - loss: 0.6126 - accuracy: 0.8027 - val_loss: 1.3059 - val_accuracy: 0.6156 - lr: 0.0010\n",
            "Epoch 11/18\n",
            "782/782 [==============================] - 61s 78ms/step - loss: 0.5179 - accuracy: 0.8328 - val_loss: 1.3419 - val_accuracy: 0.6135 - lr: 0.0010\n",
            "Epoch 12/18\n",
            "781/782 [============================>.] - ETA: 0s - loss: 0.4317 - accuracy: 0.8643\n",
            "Epoch 00012: ReduceLROnPlateau reducing learning rate to 0.0005000000237487257.\n",
            "782/782 [==============================] - 63s 81ms/step - loss: 0.4317 - accuracy: 0.8643 - val_loss: 1.4147 - val_accuracy: 0.6122 - lr: 0.0010\n",
            "Epoch 13/18\n",
            "782/782 [==============================] - 61s 78ms/step - loss: 0.2895 - accuracy: 0.9115 - val_loss: 1.3170 - val_accuracy: 0.6423 - lr: 5.0000e-04\n",
            "Epoch 14/18\n",
            "782/782 [==============================] - 61s 78ms/step - loss: 0.1969 - accuracy: 0.9469 - val_loss: 1.3820 - val_accuracy: 0.6304 - lr: 5.0000e-04\n",
            "Epoch 15/18\n",
            "782/782 [==============================] - 61s 78ms/step - loss: 0.1562 - accuracy: 0.9581 - val_loss: 1.3843 - val_accuracy: 0.6435 - lr: 5.0000e-04\n",
            "Epoch 16/18\n",
            "781/782 [============================>.] - ETA: 0s - loss: 0.1250 - accuracy: 0.9683\n",
            "Epoch 00016: ReduceLROnPlateau reducing learning rate to 0.0002500000118743628.\n",
            "782/782 [==============================] - 61s 79ms/step - loss: 0.1251 - accuracy: 0.9682 - val_loss: 1.4539 - val_accuracy: 0.6352 - lr: 5.0000e-04\n",
            "Epoch 17/18\n",
            "782/782 [==============================] - 61s 78ms/step - loss: 0.0901 - accuracy: 0.9795 - val_loss: 1.4305 - val_accuracy: 0.6427 - lr: 2.5000e-04\n"
          ]
        }
      ]
    },
    {
      "cell_type": "markdown",
      "metadata": {
        "id": "YNhR1qm_rS5t"
      },
      "source": [
        "# Validar modelo"
      ]
    },
    {
      "cell_type": "code",
      "metadata": {
        "id": "BHnYIHVWrXAq",
        "colab": {
          "base_uri": "https://localhost:8080/",
          "height": 319
        },
        "outputId": "f1c687f7-2842-4b2b-a0a4-e90bd8e94a8e"
      },
      "source": [
        "plt.plot(history.history['accuracy'], label='accuracy')\n",
        "plt.plot(history.history['val_accuracy'], label = 'val_accuracy')\n",
        "plt.xlabel('Epoch')\n",
        "plt.ylabel('Accuracy')\n",
        "plt.ylim([0.0, 1.0])\n",
        "plt.legend(loc='lower right')\n",
        "\n",
        "test_loss, test_acc = model.evaluate(test_images,  test_labels, verbose=2)\n",
        "\n",
        "print(test_acc)"
      ],
      "execution_count": 12,
      "outputs": [
        {
          "output_type": "stream",
          "name": "stdout",
          "text": [
            "313/313 - 4s - loss: 1.4305 - accuracy: 0.6427 - 4s/epoch - 14ms/step\n",
            "0.6427000164985657\n"
          ]
        },
        {
          "output_type": "display_data",
          "data": {
            "image/png": "[encoded data removed]",
            "text/plain": [
              "<Figure size 432x288 with 1 Axes>"
            ]
          },
          "metadata": {
            "needs_background": "light"
          }
        }
      ]
    }
  ]
}